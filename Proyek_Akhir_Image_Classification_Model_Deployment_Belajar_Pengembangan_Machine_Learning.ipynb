{
  "nbformat": 4,
  "nbformat_minor": 0,
  "metadata": {
    "colab": {
      "provenance": [],
      "collapsed_sections": []
    },
    "kernelspec": {
      "name": "python3",
      "display_name": "Python 3"
    },
    "language_info": {
      "name": "python"
    },
    "accelerator": "GPU"
  },
  "cells": [
    {
      "cell_type": "markdown",
      "source": [
        "#Belajar Pengembangan Machine Learning<br>\n",
        "#Proyek Akhir : Image Classification Model Deployment<br>\n",
        "Nama  : Yagy Christoper Sumule<br>\n",
        "Email : yagybatman@gmail.com<br>\n",
        "Sumber data : https://www.kaggle.com/iarunava/cell-images-for-detecting-malaria\n",
        "\n",
        "Kriteria :\n",
        "* Dataset yang akan dipakai bebas, namun minimal memiliki 1000 buah gambar.\n",
        "* Dataset tidak pernah digunakan pada submission kelas machine learning sebelumnya.\n",
        "* Dataset dibagi menjadi 80% train set dan 20% test set.\n",
        "* Model harus menggunakan model sequential.\n",
        "* Model harus menggunakan Conv2D Maxpooling Layer.\n",
        "* Akurasi pada training dan validation set minimal sebesar 80%.\n",
        "* Menggunakan Callback.\n",
        "* Membuat plot terhadap akurasi dan loss model.\n",
        "* Menulis kode untuk menyimpan model ke dalam format TF-Lite.\n",
        "\n",
        "Anda dapat menerapkan beberapa saran untuk mendapatkan nilai tinggi, berikut sarannya:\n",
        "* Dataset yang digunakan berisi lebih dari 2000 gambar.\n",
        "* Mengimplementasikan Callback.\n",
        "* Gambar-gambar pada dataset memiliki resolusi yang tidak seragam.\n",
        "\n",
        "Detail penilaian submission:\n",
        "* Bintang 4 : Semua ketentuan terpenuhi, dataset memiliki minimal 2000 sampel gambar dan minimal 3 kelas. Serta akurasi pada training dan validation set minimal 85%.\n",
        "* Bintang 5 : Semua ketentuan terpenuhi, dataset memiliki minimal 10000 gambar, resolusi gambar pada dataset tidak seragam. Serta akurasi pada training set dan validation set minimal 92%."
      ],
      "metadata": {
        "id": "CI56CoHzy1-Q"
      }
    },
    {
      "cell_type": "markdown",
      "source": [
        "## Menyiapkan Library"
      ],
      "metadata": {
        "id": "HpnXGOyU0OoW"
      }
    },
    {
      "cell_type": "code",
      "execution_count": 1,
      "metadata": {
        "id": "gSqiGRYJyy2i"
      },
      "outputs": [],
      "source": [
        "import os, zipfile, shutil, PIL\n",
        "import numpy as np\n",
        "import tensorflow as tf\n",
        "from tensorflow.keras.preprocessing.image import ImageDataGenerator\n",
        "from tensorflow.keras.models import Sequential\n",
        "from tensorflow.keras.layers import Conv2D, MaxPooling2D, Dropout, Flatten, Dense\n",
        "from tensorflow.keras.utils import plot_model\n",
        "from tensorflow.keras.callbacks import EarlyStopping\n",
        "from tensorflow.keras.optimizers import RMSprop\n",
        "from tensorflow import keras\n",
        "import matplotlib.pyplot as plt\n",
        "import matplotlib.image as mpimg\n",
        "import pathlib\n",
        "%matplotlib inline\n",
        "from google.colab import files"
      ]
    },
    {
      "cell_type": "markdown",
      "source": [
        "##Install Kaggle"
      ],
      "metadata": {
        "id": "wGVv0Ogh3FMb"
      }
    },
    {
      "cell_type": "code",
      "source": [
        "!pip install -q kaggle"
      ],
      "metadata": {
        "id": "4kuBmQYV3TZi"
      },
      "execution_count": 2,
      "outputs": []
    },
    {
      "cell_type": "markdown",
      "source": [
        "## Upload Token API Kaggle"
      ],
      "metadata": {
        "id": "GdhywXZc4VN9"
      }
    },
    {
      "cell_type": "code",
      "source": [
        "uploaded = files.upload()"
      ],
      "metadata": {
        "colab": {
          "base_uri": "https://localhost:8080/",
          "height": 73
        },
        "id": "8BQkFR773cXt",
        "outputId": "8dee975b-5e2e-4fac-82db-8be13bddd76e"
      },
      "execution_count": 3,
      "outputs": [
        {
          "output_type": "display_data",
          "data": {
            "text/plain": [
              "<IPython.core.display.HTML object>"
            ],
            "text/html": [
              "\n",
              "     <input type=\"file\" id=\"files-b6a30c4a-af3c-4549-8b45-f1536203b197\" name=\"files[]\" multiple disabled\n",
              "        style=\"border:none\" />\n",
              "     <output id=\"result-b6a30c4a-af3c-4549-8b45-f1536203b197\">\n",
              "      Upload widget is only available when the cell has been executed in the\n",
              "      current browser session. Please rerun this cell to enable.\n",
              "      </output>\n",
              "      <script>// Copyright 2017 Google LLC\n",
              "//\n",
              "// Licensed under the Apache License, Version 2.0 (the \"License\");\n",
              "// you may not use this file except in compliance with the License.\n",
              "// You may obtain a copy of the License at\n",
              "//\n",
              "//      http://www.apache.org/licenses/LICENSE-2.0\n",
              "//\n",
              "// Unless required by applicable law or agreed to in writing, software\n",
              "// distributed under the License is distributed on an \"AS IS\" BASIS,\n",
              "// WITHOUT WARRANTIES OR CONDITIONS OF ANY KIND, either express or implied.\n",
              "// See the License for the specific language governing permissions and\n",
              "// limitations under the License.\n",
              "\n",
              "/**\n",
              " * @fileoverview Helpers for google.colab Python module.\n",
              " */\n",
              "(function(scope) {\n",
              "function span(text, styleAttributes = {}) {\n",
              "  const element = document.createElement('span');\n",
              "  element.textContent = text;\n",
              "  for (const key of Object.keys(styleAttributes)) {\n",
              "    element.style[key] = styleAttributes[key];\n",
              "  }\n",
              "  return element;\n",
              "}\n",
              "\n",
              "// Max number of bytes which will be uploaded at a time.\n",
              "const MAX_PAYLOAD_SIZE = 100 * 1024;\n",
              "\n",
              "function _uploadFiles(inputId, outputId) {\n",
              "  const steps = uploadFilesStep(inputId, outputId);\n",
              "  const outputElement = document.getElementById(outputId);\n",
              "  // Cache steps on the outputElement to make it available for the next call\n",
              "  // to uploadFilesContinue from Python.\n",
              "  outputElement.steps = steps;\n",
              "\n",
              "  return _uploadFilesContinue(outputId);\n",
              "}\n",
              "\n",
              "// This is roughly an async generator (not supported in the browser yet),\n",
              "// where there are multiple asynchronous steps and the Python side is going\n",
              "// to poll for completion of each step.\n",
              "// This uses a Promise to block the python side on completion of each step,\n",
              "// then passes the result of the previous step as the input to the next step.\n",
              "function _uploadFilesContinue(outputId) {\n",
              "  const outputElement = document.getElementById(outputId);\n",
              "  const steps = outputElement.steps;\n",
              "\n",
              "  const next = steps.next(outputElement.lastPromiseValue);\n",
              "  return Promise.resolve(next.value.promise).then((value) => {\n",
              "    // Cache the last promise value to make it available to the next\n",
              "    // step of the generator.\n",
              "    outputElement.lastPromiseValue = value;\n",
              "    return next.value.response;\n",
              "  });\n",
              "}\n",
              "\n",
              "/**\n",
              " * Generator function which is called between each async step of the upload\n",
              " * process.\n",
              " * @param {string} inputId Element ID of the input file picker element.\n",
              " * @param {string} outputId Element ID of the output display.\n",
              " * @return {!Iterable<!Object>} Iterable of next steps.\n",
              " */\n",
              "function* uploadFilesStep(inputId, outputId) {\n",
              "  const inputElement = document.getElementById(inputId);\n",
              "  inputElement.disabled = false;\n",
              "\n",
              "  const outputElement = document.getElementById(outputId);\n",
              "  outputElement.innerHTML = '';\n",
              "\n",
              "  const pickedPromise = new Promise((resolve) => {\n",
              "    inputElement.addEventListener('change', (e) => {\n",
              "      resolve(e.target.files);\n",
              "    });\n",
              "  });\n",
              "\n",
              "  const cancel = document.createElement('button');\n",
              "  inputElement.parentElement.appendChild(cancel);\n",
              "  cancel.textContent = 'Cancel upload';\n",
              "  const cancelPromise = new Promise((resolve) => {\n",
              "    cancel.onclick = () => {\n",
              "      resolve(null);\n",
              "    };\n",
              "  });\n",
              "\n",
              "  // Wait for the user to pick the files.\n",
              "  const files = yield {\n",
              "    promise: Promise.race([pickedPromise, cancelPromise]),\n",
              "    response: {\n",
              "      action: 'starting',\n",
              "    }\n",
              "  };\n",
              "\n",
              "  cancel.remove();\n",
              "\n",
              "  // Disable the input element since further picks are not allowed.\n",
              "  inputElement.disabled = true;\n",
              "\n",
              "  if (!files) {\n",
              "    return {\n",
              "      response: {\n",
              "        action: 'complete',\n",
              "      }\n",
              "    };\n",
              "  }\n",
              "\n",
              "  for (const file of files) {\n",
              "    const li = document.createElement('li');\n",
              "    li.append(span(file.name, {fontWeight: 'bold'}));\n",
              "    li.append(span(\n",
              "        `(${file.type || 'n/a'}) - ${file.size} bytes, ` +\n",
              "        `last modified: ${\n",
              "            file.lastModifiedDate ? file.lastModifiedDate.toLocaleDateString() :\n",
              "                                    'n/a'} - `));\n",
              "    const percent = span('0% done');\n",
              "    li.appendChild(percent);\n",
              "\n",
              "    outputElement.appendChild(li);\n",
              "\n",
              "    const fileDataPromise = new Promise((resolve) => {\n",
              "      const reader = new FileReader();\n",
              "      reader.onload = (e) => {\n",
              "        resolve(e.target.result);\n",
              "      };\n",
              "      reader.readAsArrayBuffer(file);\n",
              "    });\n",
              "    // Wait for the data to be ready.\n",
              "    let fileData = yield {\n",
              "      promise: fileDataPromise,\n",
              "      response: {\n",
              "        action: 'continue',\n",
              "      }\n",
              "    };\n",
              "\n",
              "    // Use a chunked sending to avoid message size limits. See b/62115660.\n",
              "    let position = 0;\n",
              "    do {\n",
              "      const length = Math.min(fileData.byteLength - position, MAX_PAYLOAD_SIZE);\n",
              "      const chunk = new Uint8Array(fileData, position, length);\n",
              "      position += length;\n",
              "\n",
              "      const base64 = btoa(String.fromCharCode.apply(null, chunk));\n",
              "      yield {\n",
              "        response: {\n",
              "          action: 'append',\n",
              "          file: file.name,\n",
              "          data: base64,\n",
              "        },\n",
              "      };\n",
              "\n",
              "      let percentDone = fileData.byteLength === 0 ?\n",
              "          100 :\n",
              "          Math.round((position / fileData.byteLength) * 100);\n",
              "      percent.textContent = `${percentDone}% done`;\n",
              "\n",
              "    } while (position < fileData.byteLength);\n",
              "  }\n",
              "\n",
              "  // All done.\n",
              "  yield {\n",
              "    response: {\n",
              "      action: 'complete',\n",
              "    }\n",
              "  };\n",
              "}\n",
              "\n",
              "scope.google = scope.google || {};\n",
              "scope.google.colab = scope.google.colab || {};\n",
              "scope.google.colab._files = {\n",
              "  _uploadFiles,\n",
              "  _uploadFilesContinue,\n",
              "};\n",
              "})(self);\n",
              "</script> "
            ]
          },
          "metadata": {}
        },
        {
          "output_type": "stream",
          "name": "stdout",
          "text": [
            "Saving kaggle.json to kaggle.json\n"
          ]
        }
      ]
    },
    {
      "cell_type": "markdown",
      "source": [
        "## Konfigurasi untuk menerima datasets dari Kaggle"
      ],
      "metadata": {
        "id": "R4FdWu514nDh"
      }
    },
    {
      "cell_type": "code",
      "source": [
        "!chmod 600 /content/kaggle.json"
      ],
      "metadata": {
        "id": "5jeGsLbO4k3S"
      },
      "execution_count": 4,
      "outputs": []
    },
    {
      "cell_type": "markdown",
      "source": [
        "## Download Dataset"
      ],
      "metadata": {
        "id": "10827JwX4ybb"
      }
    },
    {
      "cell_type": "code",
      "source": [
        "! KAGGLE_CONFIG_DIR=/content/ kaggle datasets download -d iarunava/cell-images-for-detecting-malaria"
      ],
      "metadata": {
        "colab": {
          "base_uri": "https://localhost:8080/"
        },
        "id": "mpEztX5Y4yIw",
        "outputId": "859edaad-2407-4148-bca9-8c7e7c1df59d"
      },
      "execution_count": 5,
      "outputs": [
        {
          "output_type": "stream",
          "name": "stdout",
          "text": [
            "Downloading cell-images-for-detecting-malaria.zip to /content\n",
            " 97% 657M/675M [00:36<00:01, 19.1MB/s]\n",
            "100% 675M/675M [00:36<00:00, 19.2MB/s]\n"
          ]
        }
      ]
    },
    {
      "cell_type": "markdown",
      "source": [
        "## Ekstrak Dataset"
      ],
      "metadata": {
        "id": "0KFJtdYz5NqD"
      }
    },
    {
      "cell_type": "code",
      "source": [
        "local_zip = '/content/cell-images-for-detecting-malaria.zip'\n",
        "zip_ref = zipfile.ZipFile(local_zip, 'r')\n",
        "zip_ref.extractall('/content')\n",
        "zip_ref.close()"
      ],
      "metadata": {
        "id": "4dIx9_fo5Q4p"
      },
      "execution_count": 6,
      "outputs": []
    },
    {
      "cell_type": "markdown",
      "source": [
        "##Deklarasikan Direktori Dasar"
      ],
      "metadata": {
        "id": "-ifFPmNV5Qtu"
      }
    },
    {
      "cell_type": "code",
      "source": [
        "base_dir = '/content/cell_images/'"
      ],
      "metadata": {
        "id": "Ow9WvP1u5rsK"
      },
      "execution_count": 7,
      "outputs": []
    },
    {
      "cell_type": "markdown",
      "source": [
        "## Membuat fungsi list_files untuk mengidentifikasi jumlah file"
      ],
      "metadata": {
        "id": "uHOqDFQ95yNB"
      }
    },
    {
      "cell_type": "code",
      "source": [
        "def list_files(startpath):\n",
        "  num_files = 0\n",
        "  for root, dirs, files in os.walk(startpath):\n",
        "    level = root.replace(startpath, '').count(os.sep)\n",
        "    indent = ' ' * 2 * (level)\n",
        "    num_files += len(files)\n",
        "    print('{}{}/ {}'.format(indent, os.path.basename(root), (str(len(files)) + ' images' if len(files) > 0 else '')))\n",
        "  return num_files"
      ],
      "metadata": {
        "id": "iBabaoSI5zKp"
      },
      "execution_count": 8,
      "outputs": []
    },
    {
      "cell_type": "markdown",
      "source": [
        "##Memanggil fungsi list_files dengan parameter variabel direktori dasar yang telah dibuat sebelumnya"
      ],
      "metadata": {
        "id": "dQsuy_0E6jpg"
      }
    },
    {
      "cell_type": "code",
      "source": [
        "list_files(base_dir)"
      ],
      "metadata": {
        "colab": {
          "base_uri": "https://localhost:8080/"
        },
        "id": "5-Y9-PF76mE_",
        "outputId": "aaef7a04-47d9-4785-ad89-5c0ddab830d5"
      },
      "execution_count": 9,
      "outputs": [
        {
          "output_type": "stream",
          "name": "stdout",
          "text": [
            "/ \n",
            "Parasitized/ 13780 images\n",
            "Uninfected/ 13780 images\n",
            "cell_images/ \n",
            "  Parasitized/ 13780 images\n",
            "  Uninfected/ 13780 images\n"
          ]
        },
        {
          "output_type": "execute_result",
          "data": {
            "text/plain": [
              "55120"
            ]
          },
          "metadata": {},
          "execution_count": 9
        }
      ]
    },
    {
      "cell_type": "markdown",
      "source": [
        "##Membuat fungsi read_files untuk membaca setiap files"
      ],
      "metadata": {
        "id": "ZY-3su8-61IG"
      }
    },
    {
      "cell_type": "code",
      "source": [
        "def read_files(startpath):\n",
        "  image_files = []\n",
        "  for dirname, dirnames, filenames in os.walk(startpath):\n",
        "    for filename in filenames:\n",
        "      image_files.append(os.path.join(dirname, filename))\n",
        "  return image_files"
      ],
      "metadata": {
        "id": "YIhMxNVa617G"
      },
      "execution_count": 10,
      "outputs": []
    },
    {
      "cell_type": "markdown",
      "source": [
        "##Menghapus file yang tidak digunakan"
      ],
      "metadata": {
        "id": "uE6UFuKx7eeY"
      }
    },
    {
      "cell_type": "code",
      "source": [
        "os.remove(\"/content/cell_images/Parasitized/Thumbs.db\")\n",
        "os.remove(\"/content/cell_images/Uninfected/Thumbs.db\")\n",
        "os.remove(\"/content/cell_images/cell_images/Parasitized/Thumbs.db\")\n",
        "os.remove(\"/content/cell_images/cell_images/Uninfected/Thumbs.db\")"
      ],
      "metadata": {
        "id": "5D-luusP7fLb"
      },
      "execution_count": 11,
      "outputs": []
    },
    {
      "cell_type": "markdown",
      "source": [
        "##Memastikan ukuran image yang beragam dengan fungsi PIL"
      ],
      "metadata": {
        "id": "mKkSxWEU7rI_"
      }
    },
    {
      "cell_type": "code",
      "source": [
        "full_dirs = read_files(base_dir + \"cell_images\")\n",
        "image_sizes = []\n",
        "for file in full_dirs:\n",
        "  image = PIL.Image.open(file)\n",
        "  width, height = image.size\n",
        "  image_sizes.append(f'{width}x{height}')\n",
        "\n",
        "unique_sizes = set(image_sizes)\n",
        "\n",
        "print(f'Size all images: {len(image_sizes)}')\n",
        "print(f'Size unique images: {len(unique_sizes)}')\n",
        "print(f'First 10 unique images: \\n{list(unique_sizes)[:10]}')"
      ],
      "metadata": {
        "colab": {
          "base_uri": "https://localhost:8080/"
        },
        "id": "NLR6H5KH7s_S",
        "outputId": "94d283e0-981f-4b26-fd74-2a4bfc490f72"
      },
      "execution_count": 12,
      "outputs": [
        {
          "output_type": "stream",
          "name": "stdout",
          "text": [
            "Size all images: 27558\n",
            "Size unique images: 1627\n",
            "First 10 unique images: \n",
            "['199x220', '208x214', '142x190', '187x211', '160x127', '91x85', '103x166', '151x91', '109x160', '142x151']\n"
          ]
        }
      ]
    },
    {
      "cell_type": "markdown",
      "source": [
        "##Preprocessing Data"
      ],
      "metadata": {
        "id": "aEATPGho9fHh"
      }
    },
    {
      "cell_type": "code",
      "source": [
        "train_datagen = ImageDataGenerator(\n",
        "  rescale=1./255,\n",
        "  validation_split=0.2,\n",
        "  zoom_range=0.2,\n",
        "  shear_range=0.2,\n",
        "  rotation_range=0.2\n",
        ")\n",
        "\n",
        "training_generator = train_datagen.flow_from_directory(\n",
        "  base_dir + \"cell_images\",\n",
        "  subset='training',\n",
        "  target_size=(120,120),\n",
        "  seed=42,\n",
        "  batch_size=64,\n",
        "  interpolation='nearest',\n",
        "  class_mode='binary',\n",
        "  classes=['Parasitized','Uninfected']\n",
        ")"
      ],
      "metadata": {
        "colab": {
          "base_uri": "https://localhost:8080/"
        },
        "id": "X52tb4nC9gQy",
        "outputId": "f22b118d-1377-4f11-8cb1-d530660cd39c"
      },
      "execution_count": 13,
      "outputs": [
        {
          "output_type": "stream",
          "name": "stdout",
          "text": [
            "Found 22048 images belonging to 2 classes.\n"
          ]
        }
      ]
    },
    {
      "cell_type": "code",
      "source": [
        "validation_generator = train_datagen.flow_from_directory(\n",
        "  base_dir + \"cell_images\",\n",
        "  subset='validation',\n",
        "  target_size=(120,120),\n",
        "  seed=42,\n",
        "  batch_size=64,\n",
        "  interpolation='nearest',\n",
        "  class_mode='binary',\n",
        "  classes=['Parasitized','Uninfected']\n",
        ")"
      ],
      "metadata": {
        "colab": {
          "base_uri": "https://localhost:8080/"
        },
        "id": "TDJCIncHKH49",
        "outputId": "90528361-c095-4a3e-aeec-a99dc0908359"
      },
      "execution_count": 14,
      "outputs": [
        {
          "output_type": "stream",
          "name": "stdout",
          "text": [
            "Found 5510 images belonging to 2 classes.\n"
          ]
        }
      ]
    },
    {
      "cell_type": "markdown",
      "source": [
        "##Membuat Model"
      ],
      "metadata": {
        "id": "ADu69KiBB7bd"
      }
    },
    {
      "cell_type": "code",
      "source": [
        "model = Sequential([\n",
        "    Conv2D(64, (3,3), activation='relu', input_shape=(120, 120, 3)),\n",
        "    MaxPooling2D(2, 2),\n",
        "    Conv2D(64, (3,3), activation='relu'),\n",
        "    MaxPooling2D(2,2),\n",
        "    Dropout(0.6),\n",
        "    Conv2D(128, (3,3), activation='relu'),\n",
        "    MaxPooling2D(2,2),\n",
        "    Conv2D(256, (3,3), activation='relu'),\n",
        "    MaxPooling2D(2,2),\n",
        "    Dropout(0.4),\n",
        "    Flatten(),\n",
        "    Dense(512, activation='relu'),\n",
        "    Dropout(0.2),\n",
        "    Dense(1, activation='sigmoid')\n",
        "])\n",
        "\n",
        "model.summary()"
      ],
      "metadata": {
        "colab": {
          "base_uri": "https://localhost:8080/"
        },
        "id": "TeCs9EiOB92e",
        "outputId": "d14b922d-8c00-4793-f00d-1badad2547ae"
      },
      "execution_count": 15,
      "outputs": [
        {
          "output_type": "stream",
          "name": "stdout",
          "text": [
            "Model: \"sequential\"\n",
            "_________________________________________________________________\n",
            " Layer (type)                Output Shape              Param #   \n",
            "=================================================================\n",
            " conv2d (Conv2D)             (None, 118, 118, 64)      1792      \n",
            "                                                                 \n",
            " max_pooling2d (MaxPooling2D  (None, 59, 59, 64)       0         \n",
            " )                                                               \n",
            "                                                                 \n",
            " conv2d_1 (Conv2D)           (None, 57, 57, 64)        36928     \n",
            "                                                                 \n",
            " max_pooling2d_1 (MaxPooling  (None, 28, 28, 64)       0         \n",
            " 2D)                                                             \n",
            "                                                                 \n",
            " dropout (Dropout)           (None, 28, 28, 64)        0         \n",
            "                                                                 \n",
            " conv2d_2 (Conv2D)           (None, 26, 26, 128)       73856     \n",
            "                                                                 \n",
            " max_pooling2d_2 (MaxPooling  (None, 13, 13, 128)      0         \n",
            " 2D)                                                             \n",
            "                                                                 \n",
            " conv2d_3 (Conv2D)           (None, 11, 11, 256)       295168    \n",
            "                                                                 \n",
            " max_pooling2d_3 (MaxPooling  (None, 5, 5, 256)        0         \n",
            " 2D)                                                             \n",
            "                                                                 \n",
            " dropout_1 (Dropout)         (None, 5, 5, 256)         0         \n",
            "                                                                 \n",
            " flatten (Flatten)           (None, 6400)              0         \n",
            "                                                                 \n",
            " dense (Dense)               (None, 512)               3277312   \n",
            "                                                                 \n",
            " dropout_2 (Dropout)         (None, 512)               0         \n",
            "                                                                 \n",
            " dense_1 (Dense)             (None, 1)                 513       \n",
            "                                                                 \n",
            "=================================================================\n",
            "Total params: 3,685,569\n",
            "Trainable params: 3,685,569\n",
            "Non-trainable params: 0\n",
            "_________________________________________________________________\n"
          ]
        }
      ]
    },
    {
      "cell_type": "code",
      "source": [
        "plot_model(\n",
        "    model,\n",
        "    show_shapes=True,\n",
        "    show_layer_names=True,\n",
        ")\n",
        "\n",
        "class myCallback(tf.keras.callbacks.Callback):\n",
        "  def on_epoch_end(self, epoch, logs={}):\n",
        "    if((logs.get('accuracy') > 0.92) and (logs.get('val_accuracy') > 0.92)):\n",
        "      self.model.stop_training = True\n",
        "      print(\"\\nAccuracy on training set and validation set has reached > 92%!\")\n",
        "callbacks = myCallback()\n",
        "\n",
        "LR = 1e-4\n",
        "num_epochs = 30\n",
        "model.compile(loss='binary_crossentropy',\n",
        "              optimizer=RMSprop(learning_rate=LR),\n",
        "              metrics=['accuracy'])"
      ],
      "metadata": {
        "id": "XHP1eRRmLkiP"
      },
      "execution_count": 16,
      "outputs": []
    },
    {
      "cell_type": "markdown",
      "source": [
        "##Melatih Model"
      ],
      "metadata": {
        "id": "OOz9jzJjLZCR"
      }
    },
    {
      "cell_type": "code",
      "source": [
        "H = model.fit(\n",
        "    training_generator,\n",
        "    validation_data=validation_generator,\n",
        "    epochs=num_epochs,\n",
        "    steps_per_epoch=150,\n",
        "    validation_steps=35,\n",
        "    callbacks=[callbacks],\n",
        "    verbose=1\n",
        ")"
      ],
      "metadata": {
        "colab": {
          "base_uri": "https://localhost:8080/"
        },
        "id": "ZzfNgVt1KYdW",
        "outputId": "5056e106-6431-4e07-f69c-27294efe1b24"
      },
      "execution_count": 17,
      "outputs": [
        {
          "output_type": "stream",
          "name": "stdout",
          "text": [
            "Epoch 1/30\n",
            "150/150 [==============================] - 60s 315ms/step - loss: 0.6788 - accuracy: 0.5768 - val_loss: 0.6518 - val_accuracy: 0.5893\n",
            "Epoch 2/30\n",
            "150/150 [==============================] - 48s 317ms/step - loss: 0.6156 - accuracy: 0.6679 - val_loss: 0.5765 - val_accuracy: 0.7652\n",
            "Epoch 3/30\n",
            "150/150 [==============================] - 45s 301ms/step - loss: 0.4985 - accuracy: 0.7547 - val_loss: 0.4156 - val_accuracy: 0.8821\n",
            "Epoch 4/30\n",
            "150/150 [==============================] - 51s 341ms/step - loss: 0.3093 - accuracy: 0.8655 - val_loss: 0.2503 - val_accuracy: 0.9125\n",
            "Epoch 5/30\n",
            "150/150 [==============================] - 48s 323ms/step - loss: 0.2530 - accuracy: 0.9057 - val_loss: 0.2829 - val_accuracy: 0.8960\n",
            "Epoch 6/30\n",
            "150/150 [==============================] - 45s 302ms/step - loss: 0.2328 - accuracy: 0.9198 - val_loss: 0.2517 - val_accuracy: 0.9156\n",
            "Epoch 7/30\n",
            "150/150 [==============================] - ETA: 0s - loss: 0.2272 - accuracy: 0.9260\n",
            "Accuracy on training set and validation set has reached > 92%!\n",
            "150/150 [==============================] - 46s 305ms/step - loss: 0.2272 - accuracy: 0.9260 - val_loss: 0.2288 - val_accuracy: 0.9259\n"
          ]
        }
      ]
    },
    {
      "cell_type": "markdown",
      "source": [
        "##Plot Loss"
      ],
      "metadata": {
        "id": "LMOOL4YiOS2s"
      }
    },
    {
      "cell_type": "code",
      "source": [
        "loss = H.history[\"loss\"]\n",
        "val_loss = H.history[\"val_loss\"]\n",
        "acc = H.history[\"accuracy\"]\n",
        "val_acc = H.history[\"val_accuracy\"]\n",
        "\n",
        "plt.figure(figsize=(15, 5))\n",
        "\n",
        "plt.subplot(1, 2, 1)\n",
        "plt.plot(loss, label=\"Training set\")\n",
        "plt.plot(val_loss, label=\"Validation set\", linestyle=\"--\")\n",
        "plt.title(\"Loss\")\n",
        "plt.xlabel(\"Epoch\")\n",
        "plt.ylabel(\"Loss\")\n",
        "plt.legend()\n",
        "plt.grid(linestyle=\"--\", linewidth=1, alpha=0.5)"
      ],
      "metadata": {
        "colab": {
          "base_uri": "https://localhost:8080/",
          "height": 350
        },
        "id": "mqcfILJgORqf",
        "outputId": "201593f5-67b6-4186-d9ea-90f3affd05fa"
      },
      "execution_count": 21,
      "outputs": [
        {
          "output_type": "display_data",
          "data": {
            "text/plain": [
              "<Figure size 1080x360 with 1 Axes>"
            ],
            "image/png": "[encoded data removed]"
          },
          "metadata": {
            "needs_background": "light"
          }
        }
      ]
    },
    {
      "cell_type": "markdown",
      "source": [
        "#Plot Accuracy"
      ],
      "metadata": {
        "id": "7rvDLL7vb2dj"
      }
    },
    {
      "cell_type": "code",
      "source": [
        "plt.figure(figsize=(15, 5))\n",
        "plt.subplot(1, 2, 2)\n",
        "plt.plot(acc, label=\"Training set\")\n",
        "plt.plot(val_acc, label=\"Validation set\", linestyle=\"--\")\n",
        "plt.title(\"Accuracy\")\n",
        "plt.xlabel(\"Epoch\")\n",
        "plt.ylabel(\"Accuracy\")\n",
        "plt.legend()\n",
        "plt.grid(linestyle=\"--\", linewidth=1, alpha=0.5)"
      ],
      "metadata": {
        "colab": {
          "base_uri": "https://localhost:8080/",
          "height": 350
        },
        "id": "ytVOt4QGbzx8",
        "outputId": "44e9abb8-8574-4d45-d679-1a174383ac9b"
      },
      "execution_count": 23,
      "outputs": [
        {
          "output_type": "display_data",
          "data": {
            "text/plain": [
              "<Figure size 1080x360 with 1 Axes>"
            ],
            "image/png": "[encoded data removed]"
          },
          "metadata": {
            "needs_background": "light"
          }
        }
      ]
    },
    {
      "cell_type": "markdown",
      "source": [
        "##Menyimpan model dalam format SavedModel"
      ],
      "metadata": {
        "id": "eLRm8BRBUnpv"
      }
    },
    {
      "cell_type": "code",
      "source": [
        "export_dir = 'saved_model/'\n",
        "tf.saved_model.save(model, export_dir)"
      ],
      "metadata": {
        "id": "Svz8BHQqU0MY"
      },
      "execution_count": 24,
      "outputs": []
    },
    {
      "cell_type": "markdown",
      "source": [
        "##Convert SavedModel menjadi malaria.tflite"
      ],
      "metadata": {
        "id": "gGjGuYKcVEZb"
      }
    },
    {
      "cell_type": "code",
      "source": [
        "converter = tf.lite.TFLiteConverter.from_saved_model(export_dir)\n",
        "tflite_model = converter.convert()\n",
        "\n",
        "tflite_model_file = pathlib.Path('malaria_v1.tflite')\n",
        "tflite_model_file.write_bytes(tflite_model)"
      ],
      "metadata": {
        "colab": {
          "base_uri": "https://localhost:8080/"
        },
        "id": "-yANZbL_VQp-",
        "outputId": "c29c41c1-c981-4851-ea94-d76c31f95560"
      },
      "execution_count": 25,
      "outputs": [
        {
          "output_type": "execute_result",
          "data": {
            "text/plain": [
              "14746492"
            ]
          },
          "metadata": {},
          "execution_count": 25
        }
      ]
    }
  ]
}